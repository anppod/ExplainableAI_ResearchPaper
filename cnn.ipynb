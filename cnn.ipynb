{
 "cells": [
  {
   "cell_type": "markdown",
   "metadata": {},
   "source": [
    "## CNN - Dogs vs Cats\n",
    "\n",
    "dataset: https://www.kaggle.com/competitions/dogs-vs-cats/data"
   ]
  },
  {
   "cell_type": "code",
   "execution_count": 1,
   "metadata": {},
   "outputs": [],
   "source": [
    "# Biblioteki\n",
    "\n",
    "import os\n",
    "import pandas as pd\n",
    "\n",
    "import tensorflow as tf\n",
    "from tensorflow.keras.models import Sequential\n",
    "from keras.layers import Dense, Conv2D, Flatten, Input, MaxPooling2D,Dropout,BatchNormalization,Reshape\n",
    "from tensorflow.keras.preprocessing.image import ImageDataGenerator\n",
    "from keras.preprocessing.image import load_img\n",
    "\n",
    "import matplotlib.pyplot as plt\n",
    "\n",
    "from sklearn.model_selection import train_test_split"
   ]
  },
  {
   "cell_type": "code",
   "execution_count": null,
   "metadata": {},
   "outputs": [],
   "source": [
    "# Constants\n",
    "\n",
    "TRAIN_IMAGES_PATH = 'data/dogs-vs-cats/train'\n",
    "TEST_IMAGES_PATH = 'data/dogs-vs-cats/test1'\n",
    "\n",
    "IMAGE_LABEL = \"image\"\n",
    "CLASS_LABEL = \"class\"\n",
    "DOG_LABEL = \"dog\"\n",
    "CAT_LABEL = \"cat\"\n",
    "\n",
    "VALID_SIZE = 0.2\n",
    "\n",
    "BATCH_SIZE = 32\n",
    "\n",
    "IMG_WIDTH=128\n",
    "IMG_HEIGHT=128\n",
    "IMG_CHANNELS=3\n",
    "IMG_SIZE=(IMG_WIDTH, IMG_HEIGHT)\n",
    "\n",
    "KERNEL_SIZE = (3,3)\n",
    "POOL_SIZE = 2\n",
    "RELU_ACTIVATION = 'relu'\n",
    "\n",
    "EPOCHS = 10 # pewnie można zmienić do 15 np."
   ]
  },
  {
   "cell_type": "markdown",
   "metadata": {},
   "source": [
    "### Preprocessing"
   ]
  },
  {
   "cell_type": "code",
   "execution_count": null,
   "metadata": {},
   "outputs": [
    {
     "data": {
      "text/html": [
       "<div>\n",
       "<style scoped>\n",
       "    .dataframe tbody tr th:only-of-type {\n",
       "        vertical-align: middle;\n",
       "    }\n",
       "\n",
       "    .dataframe tbody tr th {\n",
       "        vertical-align: top;\n",
       "    }\n",
       "\n",
       "    .dataframe thead th {\n",
       "        text-align: right;\n",
       "    }\n",
       "</style>\n",
       "<table border=\"1\" class=\"dataframe\">\n",
       "  <thead>\n",
       "    <tr style=\"text-align: right;\">\n",
       "      <th></th>\n",
       "      <th>image</th>\n",
       "      <th>class</th>\n",
       "    </tr>\n",
       "  </thead>\n",
       "  <tbody>\n",
       "    <tr>\n",
       "      <th>0</th>\n",
       "      <td>cat.0.jpg</td>\n",
       "      <td>cat</td>\n",
       "    </tr>\n",
       "    <tr>\n",
       "      <th>1</th>\n",
       "      <td>cat.1.jpg</td>\n",
       "      <td>cat</td>\n",
       "    </tr>\n",
       "    <tr>\n",
       "      <th>2</th>\n",
       "      <td>cat.10.jpg</td>\n",
       "      <td>cat</td>\n",
       "    </tr>\n",
       "    <tr>\n",
       "      <th>3</th>\n",
       "      <td>cat.100.jpg</td>\n",
       "      <td>cat</td>\n",
       "    </tr>\n",
       "    <tr>\n",
       "      <th>4</th>\n",
       "      <td>cat.1000.jpg</td>\n",
       "      <td>cat</td>\n",
       "    </tr>\n",
       "  </tbody>\n",
       "</table>\n",
       "</div>"
      ],
      "text/plain": [
       "          image class\n",
       "0     cat.0.jpg   cat\n",
       "1     cat.1.jpg   cat\n",
       "2    cat.10.jpg   cat\n",
       "3   cat.100.jpg   cat\n",
       "4  cat.1000.jpg   cat"
      ]
     },
     "execution_count": 3,
     "metadata": {},
     "output_type": "execute_result"
    }
   ],
   "source": [
    "\n",
    "train_images = os.listdir(TRAIN_IMAGES_PATH)\n",
    "test_images = os.listdir(TEST_IMAGES_PATH)\n",
    "\n",
    "classes = [DOG_LABEL if DOG_LABEL in filename else CAT_LABEL for filename in train_images]\n",
    "train_set_df = pd.DataFrame({IMAGE_LABEL: train_images, CLASS_LABEL: classes})\n",
    "\n",
    "train_set_df.head()\n"
   ]
  },
  {
   "cell_type": "code",
   "execution_count": null,
   "metadata": {},
   "outputs": [
    {
     "data": {
      "text/plain": [
       "class\n",
       "cat    12500\n",
       "dog    12500\n",
       "Name: count, dtype: int64"
      ]
     },
     "execution_count": 4,
     "metadata": {},
     "output_type": "execute_result"
    }
   ],
   "source": [
    "train_set_df[CLASS_LABEL].value_counts()"
   ]
  },
  {
   "cell_type": "code",
   "execution_count": null,
   "metadata": {},
   "outputs": [],
   "source": [
    "# Podział na dane treningowe i walidacyjne:\n",
    "train_df, val_df = train_test_split(train_set_df, test_size=VALID_SIZE, stratify=train_set_df[CLASS_LABEL], random_state=42)\n"
   ]
  },
  {
   "cell_type": "code",
   "execution_count": null,
   "metadata": {},
   "outputs": [
    {
     "name": "stdout",
     "output_type": "stream",
     "text": [
      "Train dataset:\n",
      "class\n",
      "dog    10000\n",
      "cat    10000\n",
      "Name: count, dtype: int64\n",
      "Validation dataset:\n",
      "class\n",
      "dog    2500\n",
      "cat    2500\n",
      "Name: count, dtype: int64\n"
     ]
    }
   ],
   "source": [
    "print(\"Train dataset:\")\n",
    "print(train_df[CLASS_LABEL].value_counts())\n",
    "print(\"Validation dataset:\")\n",
    "print(val_df[CLASS_LABEL].value_counts())"
   ]
  },
  {
   "cell_type": "code",
   "execution_count": null,
   "metadata": {},
   "outputs": [
    {
     "name": "stdout",
     "output_type": "stream",
     "text": [
      "Found 20000 validated image filenames belonging to 2 classes.\n",
      "Found 5000 validated image filenames belonging to 2 classes.\n"
     ]
    }
   ],
   "source": [
    "# Edycja danych treningowych i walidacyjnych:\n",
    "\n",
    "train_datagen = ImageDataGenerator(\n",
    "    rescale=1./255,\n",
    "    rotation_range=15,\n",
    "    width_shift_range=0.1,\n",
    "    height_shift_range=0.1,\n",
    "    shear_range=0.1,\n",
    "    zoom_range=(0.8, 1.5),\n",
    "    horizontal_flip=True,\n",
    "    brightness_range=(0.5, 1.5)\n",
    ")\n",
    "\n",
    "valid_datagen = ImageDataGenerator(rescale=1./255)\n",
    "\n",
    "# generators:\n",
    "\n",
    "train_generator = train_datagen.flow_from_dataframe(\n",
    "    train_df,\n",
    "    directory=TRAIN_IMAGES_PATH,\n",
    "    x_col=IMAGE_LABEL,\n",
    "    y_col=CLASS_LABEL,\n",
    "    target_size=IMG_SIZE,\n",
    "    batch_size=BATCH_SIZE,\n",
    "    class_mode='binary'\n",
    ")\n",
    "\n",
    "val_generator = valid_datagen.flow_from_dataframe(\n",
    "    val_df,\n",
    "    directory=TRAIN_IMAGES_PATH,\n",
    "    x_col=IMAGE_LABEL,\n",
    "    y_col=CLASS_LABEL,\n",
    "    target_size=IMG_SIZE,\n",
    "    batch_size=BATCH_SIZE,\n",
    "    class_mode='binary'\n",
    ")"
   ]
  },
  {
   "cell_type": "markdown",
   "metadata": {},
   "source": [
    "### Training"
   ]
  },
  {
   "cell_type": "code",
   "execution_count": null,
   "metadata": {},
   "outputs": [
    {
     "name": "stdout",
     "output_type": "stream",
     "text": [
      "Epoch 1/10\n",
      "\u001b[1m625/625\u001b[0m \u001b[32m━━━━━━━━━━━━━━━━━━━━\u001b[0m\u001b[37m\u001b[0m \u001b[1m414s\u001b[0m 656ms/step - accuracy: 0.5700 - loss: 0.7421 - val_accuracy: 0.6496 - val_loss: 0.6634\n",
      "Epoch 2/10\n",
      "\u001b[1m625/625\u001b[0m \u001b[32m━━━━━━━━━━━━━━━━━━━━\u001b[0m\u001b[37m\u001b[0m \u001b[1m443s\u001b[0m 708ms/step - accuracy: 0.6937 - loss: 0.5932 - val_accuracy: 0.6396 - val_loss: 0.7381\n",
      "Epoch 3/10\n",
      "\u001b[1m625/625\u001b[0m \u001b[32m━━━━━━━━━━━━━━━━━━━━\u001b[0m\u001b[37m\u001b[0m \u001b[1m402s\u001b[0m 643ms/step - accuracy: 0.7199 - loss: 0.5482 - val_accuracy: 0.7290 - val_loss: 0.5785\n",
      "Epoch 4/10\n",
      "\u001b[1m625/625\u001b[0m \u001b[32m━━━━━━━━━━━━━━━━━━━━\u001b[0m\u001b[37m\u001b[0m \u001b[1m451s\u001b[0m 721ms/step - accuracy: 0.7638 - loss: 0.5027 - val_accuracy: 0.8006 - val_loss: 0.4600\n",
      "Epoch 5/10\n",
      "\u001b[1m625/625\u001b[0m \u001b[32m━━━━━━━━━━━━━━━━━━━━\u001b[0m\u001b[37m\u001b[0m \u001b[1m486s\u001b[0m 778ms/step - accuracy: 0.7910 - loss: 0.4561 - val_accuracy: 0.7668 - val_loss: 0.4849\n",
      "Epoch 6/10\n",
      "\u001b[1m625/625\u001b[0m \u001b[32m━━━━━━━━━━━━━━━━━━━━\u001b[0m\u001b[37m\u001b[0m \u001b[1m551s\u001b[0m 881ms/step - accuracy: 0.8243 - loss: 0.3937 - val_accuracy: 0.6806 - val_loss: 0.6178\n",
      "Epoch 7/10\n",
      "\u001b[1m625/625\u001b[0m \u001b[32m━━━━━━━━━━━━━━━━━━━━\u001b[0m\u001b[37m\u001b[0m \u001b[1m573s\u001b[0m 916ms/step - accuracy: 0.8412 - loss: 0.3581 - val_accuracy: 0.8852 - val_loss: 0.2796\n",
      "Epoch 8/10\n",
      "\u001b[1m625/625\u001b[0m \u001b[32m━━━━━━━━━━━━━━━━━━━━\u001b[0m\u001b[37m\u001b[0m \u001b[1m442s\u001b[0m 706ms/step - accuracy: 0.8564 - loss: 0.3378 - val_accuracy: 0.9048 - val_loss: 0.2321\n",
      "Epoch 9/10\n",
      "\u001b[1m625/625\u001b[0m \u001b[32m━━━━━━━━━━━━━━━━━━━━\u001b[0m\u001b[37m\u001b[0m \u001b[1m396s\u001b[0m 633ms/step - accuracy: 0.8579 - loss: 0.3249 - val_accuracy: 0.8532 - val_loss: 0.3578\n",
      "Epoch 10/10\n",
      "\u001b[1m625/625\u001b[0m \u001b[32m━━━━━━━━━━━━━━━━━━━━\u001b[0m\u001b[37m\u001b[0m \u001b[1m404s\u001b[0m 647ms/step - accuracy: 0.8651 - loss: 0.3085 - val_accuracy: 0.9108 - val_loss: 0.2320\n"
     ]
    },
    {
     "name": "stderr",
     "output_type": "stream",
     "text": [
      "WARNING:absl:You are saving your model as an HDF5 file via `model.save()` or `keras.saving.save_model(model)`. This file format is considered legacy. We recommend using instead the native Keras format, e.g. `model.save('my_model.keras')` or `keras.saving.save_model(model, 'my_model.keras')`. \n"
     ]
    }
   ],
   "source": [
    "\n",
    "model = Sequential([\n",
    "    Conv2D(32, KERNEL_SIZE, activation=RELU_ACTIVATION, input_shape=(IMG_WIDTH, IMG_HEIGHT, IMG_CHANNELS)),\n",
    "    BatchNormalization(),\n",
    "    MaxPooling2D(POOL_SIZE,POOL_SIZE),\n",
    "    Dropout(0.25),\n",
    "\n",
    "    Conv2D(64, KERNEL_SIZE, activation=RELU_ACTIVATION),\n",
    "    BatchNormalization(),\n",
    "    MaxPooling2D(POOL_SIZE,POOL_SIZE),\n",
    "    Dropout(0.25),\n",
    "\n",
    "    Conv2D(128, KERNEL_SIZE, activation=RELU_ACTIVATION),\n",
    "    BatchNormalization(),\n",
    "    MaxPooling2D(POOL_SIZE,POOL_SIZE),\n",
    "    Dropout(0.25),\n",
    "\n",
    "    Conv2D(256, KERNEL_SIZE, activation=RELU_ACTIVATION),\n",
    "    BatchNormalization(),\n",
    "    MaxPooling2D(POOL_SIZE,POOL_SIZE),\n",
    "    Dropout(0.25),\n",
    "\n",
    "    Conv2D(512, KERNEL_SIZE, activation=RELU_ACTIVATION),\n",
    "    BatchNormalization(),\n",
    "    MaxPooling2D(POOL_SIZE,POOL_SIZE),\n",
    "\n",
    "    Flatten(),\n",
    "\n",
    "    Dense(1024, activation=RELU_ACTIVATION),\n",
    "    Dense(512, activation=RELU_ACTIVATION),\n",
    "    Dense(256, activation=RELU_ACTIVATION),\n",
    "    Dense(128, activation=RELU_ACTIVATION),\n",
    "    Dropout(0.5),\n",
    "\n",
    "    Dense(1, activation='sigmoid')\n",
    "])\n",
    "\n",
    "\n",
    "model.compile(optimizer='adam', loss='binary_crossentropy', metrics=['accuracy'])\n",
    "\n",
    "history = model.fit(\n",
    "    train_generator,\n",
    "    validation_data=val_generator,\n",
    "    epochs=EPOCHS\n",
    ")\n",
    "\n",
    "model.save(\"cats_dogs_cnn.h5\")"
   ]
  },
  {
   "cell_type": "markdown",
   "metadata": {},
   "source": [
    "### Testing"
   ]
  },
  {
   "cell_type": "code",
   "execution_count": null,
   "metadata": {},
   "outputs": [],
   "source": [
    "test_file_names = os.listdir(TEST_IMAGES_PATH)\n",
    "test_df = pd.DataFrame({IMAGE_LABEL: test_file_names})\n",
    "\n",
    "test_gen = ImageDataGenerator(rescale=1./255)\n",
    "test_generator = test_gen.flow_from_dataframe(\n",
    "    test_df,\n",
    "    TEST_IMAGES_PATH,\n",
    "    x_col=IMAGE_LABEL,\n",
    "    y_col=None,\n",
    "    class_mode=None,\n",
    "    target_size=IMG_SIZE,\n",
    "    batch_size=BATCH_SIZE,\n",
    "    shuffle=False\n",
    ")"
   ]
  },
  {
   "cell_type": "code",
   "execution_count": null,
   "metadata": {},
   "outputs": [],
   "source": [
    "predictions = model.predict(test_generator)"
   ]
  },
  {
   "cell_type": "code",
   "execution_count": null,
   "metadata": {},
   "outputs": [],
   "source": [
    "sample_test = test_df.head(36)\n",
    "\n",
    "plt.figure(figsize=(15,15))\n",
    "\n",
    "for index, row in sample_test.iterrows():\n",
    "    image_file = row[IMAGE_LABEL]\n",
    "    image_class = row[CLASS_LABEL]\n",
    "    path = os.path.join(TEST_IMAGES_PATH, image_file)\n",
    "    img = load_img(path, target_size=IMG_SIZE)\n",
    "    plt.subplot(6,6,index+1)\n",
    "    plt.imshow(img)\n",
    "    plt.title(f\"{image_file}\\n is {image_class}\")\n",
    "    plt.axis('off')\n",
    "plt.tight_layout()\n",
    "plt.show()"
   ]
  }
 ],
 "metadata": {
  "kernelspec": {
   "display_name": "Python 3",
   "language": "python",
   "name": "python3"
  },
  "language_info": {
   "codemirror_mode": {
    "name": "ipython",
    "version": 3
   },
   "file_extension": ".py",
   "mimetype": "text/x-python",
   "name": "python",
   "nbconvert_exporter": "python",
   "pygments_lexer": "ipython3",
   "version": "3.12.8"
  }
 },
 "nbformat": 4,
 "nbformat_minor": 2
}
